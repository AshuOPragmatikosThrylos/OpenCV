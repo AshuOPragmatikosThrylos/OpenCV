{
 "cells": [
  {
   "cell_type": "code",
   "execution_count": 8,
   "metadata": {},
   "outputs": [],
   "source": [
    "from tkinter import *\n",
    "import cv2\n",
    "import matplotlib.pyplot as plt\n",
    "\n",
    "\n",
    "img = cv2.imread(\"NAO.jpg\",cv2.IMREAD_COLOR)\n",
    "num_rows,num_cols = img.shape[:2]\n",
    "    \n",
    "root = Tk()\n",
    "root.geometry(\"700x700\")\n",
    "root.resizable(False,False)\n",
    "root.title(\"Image_Rotation\")\n",
    "\n",
    "\n",
    "\n",
    "angle_of_rotation = 0   #global variables are read only variables from the scope of a function\n",
    "\n",
    "def image_rotation():\n",
    "    global angle_of_rotation #global is used when we want to change the value of the global variable from local scope\n",
    "    angle_of_rotation += 10\n",
    "    rot_matrix = cv2.getRotationMatrix2D((num_cols/2,num_rows/2),angle_of_rotation,1.0)\n",
    "    img_rotated = cv2.warpAffine(img,rot_matrix,(num_cols,num_rows))\n",
    "    cv2.imwrite(\"Rotated_NAO_for_GUI.png\",img_rotated)\n",
    "    photo = PhotoImage(file=\"Rotated_NAO_for_GUI.png\")\n",
    "    lbl = Label(root,image=photo)\n",
    "    lbl.place(x=0,y=0)\n",
    "\n",
    "btn=Button(root,text=\"Rotate 10° again\",command=image_rotation)\n",
    "btn.place(x=330,y=640)\n",
    "\n",
    "\n",
    "\n",
    "root.mainloop()\n",
    "\n",
    "#jpg ka pillow me alag syntax hota h..wo bhi incorporate kr skte ho ....uske liye pehle file extension check krna pdega\n",
    "#root window k size ko dynamic bna skte ho...iske liye img ka size in pixels janana pdega\n",
    "#rotated image ko save krne wala button bhi daal skte ho\n",
    "#image name hardcode nhi krna bhi ek idea h\n",
    "#original image aur rotated image side by side dikha skte ho\n",
    "#positive aur  negative rotation ka idea bhi incorporate kr skte ho\n"
   ]
  },
  {
   "cell_type": "markdown",
   "metadata": {},
   "source": [
    "observation....global se direct bahr jata h nested k bhi bahr"
   ]
  },
  {
   "cell_type": "code",
   "execution_count": 3,
   "metadata": {},
   "outputs": [
    {
     "name": "stdout",
     "output_type": "stream",
     "text": [
      "before calling rohan() 20\n",
      "after calling rohan() 20\n",
      "88\n"
     ]
    }
   ],
   "source": [
    "x = 89\n",
    "def harry():\n",
    "    x = 20\n",
    "    def rohan():\n",
    "        global x\n",
    "        x = 88\n",
    "    print(\"before calling rohan()\", x)\n",
    "    rohan()\n",
    "    print(\"after calling rohan()\", x)\n",
    "\n",
    "harry()\n",
    "print(x)"
   ]
  },
  {
   "cell_type": "code",
   "execution_count": null,
   "metadata": {},
   "outputs": [],
   "source": []
  }
 ],
 "metadata": {
  "kernelspec": {
   "display_name": "Python 3",
   "language": "python",
   "name": "python3"
  },
  "language_info": {
   "codemirror_mode": {
    "name": "ipython",
    "version": 3
   },
   "file_extension": ".py",
   "mimetype": "text/x-python",
   "name": "python",
   "nbconvert_exporter": "python",
   "pygments_lexer": "ipython3",
   "version": "3.7.4"
  }
 },
 "nbformat": 4,
 "nbformat_minor": 2
}
