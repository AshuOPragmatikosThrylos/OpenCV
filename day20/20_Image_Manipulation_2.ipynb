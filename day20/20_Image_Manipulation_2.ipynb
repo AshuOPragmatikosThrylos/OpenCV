{
 "cells": [
  {
   "cell_type": "markdown",
   "metadata": {},
   "source": [
    "scaling"
   ]
  },
  {
   "cell_type": "code",
   "execution_count": 1,
   "metadata": {},
   "outputs": [
    {
     "name": "stdout",
     "output_type": "stream",
     "text": [
      "(639, 480, 3)\n",
      "(320, 240, 3)\n"
     ]
    }
   ],
   "source": [
    "import cv2\n",
    "import matplotlib.pyplot as plt\n",
    "\n",
    "img = cv2.imread('NAO.jpg')\n",
    "img_scaled = cv2.resize(img,None,fx=0.5,fy=0.5,interpolation=cv2.INTER_LINEAR)\n",
    "#INTERLINEAR for shrinking, INTERAREA,INTERCUBIC for stretching\n",
    "print(img.shape)\n",
    "print(img_scaled.shape)\n",
    "#zooming and interpolation are different\n",
    "#Zooming refers to increase the quantity of pixels, so that when you zoom an image, you will see more detail.\n",
    "# Interpolation works by using known data to estimate values at unknown points."
   ]
  },
  {
   "cell_type": "markdown",
   "metadata": {},
   "source": [
    "affine transformation"
   ]
  },
  {
   "cell_type": "code",
   "execution_count": null,
   "metadata": {},
   "outputs": [],
   "source": [
    "#affine transformation mtlb pixel position manipulation...color not changed\n",
    "#Affine transformation is a linear mapping method that preserves points, straight lines, and planes. \n",
    "#Sets of parallel lines remain parallel after an affine transformation"
   ]
  },
  {
   "cell_type": "code",
   "execution_count": 2,
   "metadata": {},
   "outputs": [],
   "source": [
    "import numpy as np"
   ]
  },
  {
   "cell_type": "code",
   "execution_count": 3,
   "metadata": {},
   "outputs": [],
   "source": [
    "num_rows, num_cols = img.shape[:2]\n",
    "src_points = np.float32([[0,0],[num_cols-1,0],[0,num_rows-1],[num_cols-1,num_rows-1]])\n",
    " #number of columns pehle likha jata h"
   ]
  },
  {
   "cell_type": "code",
   "execution_count": 4,
   "metadata": {},
   "outputs": [
    {
     "data": {
      "text/plain": [
       "array([[  0.,   0.],\n",
       "       [479.,   0.],\n",
       "       [  0., 638.],\n",
       "       [479., 638.]], dtype=float32)"
      ]
     },
     "execution_count": 4,
     "metadata": {},
     "output_type": "execute_result"
    }
   ],
   "source": [
    "src_points"
   ]
  },
  {
   "cell_type": "code",
   "execution_count": 5,
   "metadata": {},
   "outputs": [
    {
     "data": {
      "text/plain": [
       "(639, 480, 3)"
      ]
     },
     "execution_count": 5,
     "metadata": {},
     "output_type": "execute_result"
    }
   ],
   "source": [
    "img.shape"
   ]
  },
  {
   "cell_type": "code",
   "execution_count": 6,
   "metadata": {},
   "outputs": [],
   "source": [
    "dst_points=np.float32([[0,0],[num_cols-1,0],[int(0.3*num_cols),num_rows-1],[int(0.6*num_cols),num_rows-1]])"
   ]
  },
  {
   "cell_type": "code",
   "execution_count": 7,
   "metadata": {},
   "outputs": [
    {
     "data": {
      "text/plain": [
       "array([[  0.,   0.],\n",
       "       [479.,   0.],\n",
       "       [144., 638.],\n",
       "       [288., 638.]], dtype=float32)"
      ]
     },
     "execution_count": 7,
     "metadata": {},
     "output_type": "execute_result"
    }
   ],
   "source": [
    "dst_points"
   ]
  },
  {
   "cell_type": "code",
   "execution_count": 8,
   "metadata": {},
   "outputs": [],
   "source": [
    "project_matrix = cv2.getPerspectiveTransform(src_points,dst_points)"
   ]
  },
  {
   "cell_type": "code",
   "execution_count": 9,
   "metadata": {},
   "outputs": [
    {
     "data": {
      "text/plain": [
       "array([[ 1.        ,  0.7507837 ,  0.        ],\n",
       "       [ 0.        ,  3.32638889,  0.        ],\n",
       "       [-0.        ,  0.00364638,  1.        ]])"
      ]
     },
     "execution_count": 9,
     "metadata": {},
     "output_type": "execute_result"
    }
   ],
   "source": [
    "project_matrix"
   ]
  },
  {
   "cell_type": "code",
   "execution_count": 10,
   "metadata": {},
   "outputs": [],
   "source": [
    "img_out = cv2.warpPerspective(img,project_matrix,(num_cols,num_rows))"
   ]
  },
  {
   "cell_type": "code",
   "execution_count": 11,
   "metadata": {},
   "outputs": [
    {
     "data": {
      "text/plain": [
       "True"
      ]
     },
     "execution_count": 11,
     "metadata": {},
     "output_type": "execute_result"
    }
   ],
   "source": [
    "cv2.imwrite(\"res.jpg\",img_out)"
   ]
  },
  {
   "cell_type": "code",
   "execution_count": null,
   "metadata": {},
   "outputs": [],
   "source": [
    "#horizontal perspective"
   ]
  },
  {
   "cell_type": "code",
   "execution_count": 12,
   "metadata": {},
   "outputs": [
    {
     "data": {
      "text/plain": [
       "True"
      ]
     },
     "execution_count": 12,
     "metadata": {},
     "output_type": "execute_result"
    }
   ],
   "source": [
    "import numpy as np\n",
    "import cv2\n",
    "img = cv2.imread('NAO.jpg')\n",
    "num_rows, num_cols = img.shape[:2]\n",
    "src_points = np.float32([[0,0],[num_cols-1,0],[0,num_rows-1],[num_cols-1,num_rows-1]])\n",
    "dst_points=np.float32([[0,int(0.3*num_rows)],[num_cols-1,0],[0,int(0.6*num_rows)],[num_cols-1,num_rows-1]])\n",
    "project_matrix = cv2.getPerspectiveTransform(src_points,dst_points)\n",
    "img_out = cv2.warpPerspective(img,project_matrix,(num_cols,num_rows))\n",
    "cv2.imwrite(\"res_horizontal.jpg\",img_out)\n"
   ]
  },
  {
   "cell_type": "code",
   "execution_count": 13,
   "metadata": {},
   "outputs": [
    {
     "data": {
      "text/plain": [
       "True"
      ]
     },
     "execution_count": 13,
     "metadata": {},
     "output_type": "execute_result"
    }
   ],
   "source": [
    "import numpy as np\n",
    "import math\n",
    "\n",
    "img = cv2.imread(\"NAO.jpg\",cv2.IMREAD_GRAYSCALE)\n",
    "rows,cols = img.shape\n",
    "img_output = np.zeros(img.shape)\n",
    "for i in range(rows):\n",
    "    for j in range(cols):\n",
    "        \n",
    "        \n",
    "        offset_x = int(80.0*math.sin(2*3.148*i/180))\n",
    "        offset_y = 0\n",
    "\n",
    "        if j+offset_x < cols:\n",
    "            img_output[i,j] = img[i,(j+offset_x)]\n",
    "        else:\n",
    "             img_output[i,j] = 0\n",
    "                \n",
    "cv2.imwrite(\"sinres.jpg\",img_output)               "
   ]
  },
  {
   "cell_type": "code",
   "execution_count": 14,
   "metadata": {},
   "outputs": [
    {
     "data": {
      "text/plain": [
       "True"
      ]
     },
     "execution_count": 14,
     "metadata": {},
     "output_type": "execute_result"
    }
   ],
   "source": [
    "import numpy as np\n",
    "import math\n",
    "\n",
    "img = cv2.imread(\"NAO.jpg\",cv2.IMREAD_GRAYSCALE)\n",
    "rows,cols = img.shape\n",
    "img_output = np.zeros(img.shape)\n",
    "for i in range(rows):\n",
    "    for j in range(cols):\n",
    "        \n",
    "        \n",
    "        offset_y = int(80.0*math.sin(2*3.148*j/180))\n",
    "        offset_x = 0\n",
    "\n",
    "        if i+offset_y < rows:\n",
    "            img_output[i,j] = img[(i+offset_y),j]\n",
    "        else:\n",
    "             img_output[i,j] = 0\n",
    "                \n",
    "cv2.imwrite(\"sinreshorizontal.jpg\",img_output)               "
   ]
  }
 ],
 "metadata": {
  "kernelspec": {
   "display_name": "Python 3",
   "language": "python",
   "name": "python3"
  },
  "language_info": {
   "codemirror_mode": {
    "name": "ipython",
    "version": 3
   },
   "file_extension": ".py",
   "mimetype": "text/x-python",
   "name": "python",
   "nbconvert_exporter": "python",
   "pygments_lexer": "ipython3",
   "version": "3.7.4"
  }
 },
 "nbformat": 4,
 "nbformat_minor": 2
}
